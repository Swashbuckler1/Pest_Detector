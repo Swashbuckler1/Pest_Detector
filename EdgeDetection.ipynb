{
 "cells": [
  {
   "cell_type": "code",
   "execution_count": 1,
   "id": "4951cc0b",
   "metadata": {},
   "outputs": [],
   "source": [
    "import numpy as np\n",
    "import cv2\n",
    "import os\n",
    "from imutils import paths\n",
    "from keras.preprocessing.image import img_to_array\n",
    "\n",
    "import imutils\n",
    "\n",
    "import matplotlib.pyplot as plt\n",
    "import PIL\n",
    "#from PIL import Image\n",
    "\n",
    "from PIL import Image, ImageOps\n",
    "\n",
    "\n",
    "# notebook_path = os.path.abspath(\"Newpest_tensorflow.ipynb\")\n",
    "# #print(notebook_path)\n",
    "\n",
    "# image_dir = os.path.join(os.path.dirname(notebook_path), \"Data/archive/classification/train/KeypointData\")\n",
    "# #Template for Aphids\n",
    "# aphid24 = os.path.join(os.path.dirname(notebook_path), \"Data/archive/templates/template.jpg\")\n",
    "\n",
    "image_dir = \"TestData\"\n",
    "#Template for Aphids\n",
    "aphid = \"TestData/template.jpg\"\n",
    "\n"
   ]
  },
  {
   "cell_type": "code",
   "execution_count": 2,
   "id": "10c14056",
   "metadata": {},
   "outputs": [],
   "source": [
    "template = cv2.imread(aphid)\n",
    "template = cv2.cvtColor(template, cv2.COLOR_BGR2GRAY)\n",
    "\n",
    "edge = cv2.Canny(template, 50, 150)\n",
    "#print(template.shape)\n",
    "cv2.imshow(\"Template\", template)\n",
    "cv2.imshow('edge_aphid', edge)\n",
    "\n",
    "plt.imsave('MatchedImages/edge_aphid.jpg', edge)\n",
    "cv2.waitKey(0)\n",
    "cv2.destroyAllWindows()"
   ]
  },
  {
   "cell_type": "code",
   "execution_count": 3,
   "id": "a02e7959",
   "metadata": {},
   "outputs": [
    {
     "name": "stdout",
     "output_type": "stream",
     "text": [
      "size different\n"
     ]
    }
   ],
   "source": [
    "\n",
    "\n",
    "tH = template.shape[1]   \n",
    "\n",
    "tW = template.shape[0]  \n",
    "\n",
    "template_size = tW, tH\n",
    "data = []\n",
    "labels = [] \n",
    "\n",
    "imagePaths = np.array(list(paths.list_images(image_dir)))\n",
    "\n",
    "for (i, imagePath) in enumerate(imagePaths):\n",
    "\n",
    "    img = cv2.imread(imagePath)\n",
    "    \n",
    "    # BGR to RGB\n",
    "    img = cv2.cvtColor(img, cv2.COLOR_BGR2RGB)\n",
    "    \n",
    "    \n",
    "##########################################################################################\n",
    "    gray = cv2.cvtColor(img, cv2.COLOR_BGR2GRAY)\n",
    "    found = None\n",
    "# loop over the scales of the image\n",
    "    for scale in np.linspace(0.2, 1.0, 20)[::-1]:\n",
    "# resize the image according to the scale, and keep track\n",
    "# of the ratio of the resizing\n",
    "        resized = imutils.resize(gray, width = int(gray.shape[1] * scale))\n",
    "        r = gray.shape[1] / float(resized.shape[1])\n",
    "# if the resized image is smaller than the template, then break\n",
    "# from the loop\n",
    "        if resized.shape[0] < tH or resized.shape[1] < tW:\n",
    "            #continue\n",
    "            print('size different')\n",
    "        break\n",
    "            \n",
    "# matching to find the template in the image\n",
    "    edged = cv2.Canny(img, 50, 200)\n",
    "    result = cv2.matchTemplate(edged, template, cv2.TM_CCOEFF)\n",
    "    (_, maxVal, _, maxLoc) = cv2.minMaxLoc(result)\n",
    "\n",
    "# bounding box around the detected region\n",
    "    clone = np.dstack([edged, edged, edged])\n",
    "    cv2.rectangle(clone, (maxLoc[0], maxLoc[1]),\n",
    "    (maxLoc[0] + tW, maxLoc[1] + tH), (0, 0, 255), 2)\n",
    "    #cv2.imshow(\"Visualize\", clone)\n",
    "    #cv2.waitKey(0)\n",
    "    \n",
    "    if found is None or maxVal > found[0]:\n",
    "        found = (maxVal, maxLoc, r)\n",
    "# unpack the bookkeeping variable and compute the (x, y) coordinates\n",
    "# of the bounding box based on the resized ratio\n",
    "        (_, maxLoc, r) = found\n",
    "        (startX, startY) = (int(maxLoc[0] * r), int(maxLoc[1] * r))\n",
    "        (endX, endY) = (int((maxLoc[0] + tW) * r), int((maxLoc[1] + tH) * r))\n",
    "        \n",
    "# draw a bounding box around the detected result and display the image\n",
    "        filename = 'MatchedImages/matched_'+ str(i)+'.jpg'\n",
    "        cv2.rectangle(img, (startX, startY), (endX, endY), (0, 0, 255), 2)\n",
    "        #cv2.imshow(\"Image\", img)\n",
    "        plt.imsave(filename, img)\n",
    "        #cv2.waitKey(0)        \n",
    "        "
   ]
  },
  {
   "cell_type": "code",
   "execution_count": null,
   "id": "4eb9a713",
   "metadata": {},
   "outputs": [],
   "source": []
  },
  {
   "cell_type": "code",
   "execution_count": null,
   "id": "9db400dc",
   "metadata": {},
   "outputs": [],
   "source": []
  }
 ],
 "metadata": {
  "kernelspec": {
   "display_name": "Python 3 (ipykernel)",
   "language": "python",
   "name": "python3"
  },
  "language_info": {
   "codemirror_mode": {
    "name": "ipython",
    "version": 3
   },
   "file_extension": ".py",
   "mimetype": "text/x-python",
   "name": "python",
   "nbconvert_exporter": "python",
   "pygments_lexer": "ipython3",
   "version": "3.8.10"
  }
 },
 "nbformat": 4,
 "nbformat_minor": 5
}
